{
 "cells": [
  {
   "cell_type": "markdown",
   "metadata": {},
   "source": [
    "https://www.mygov.in/corona-data/covid19-statewise-status/\n",
    "\n",
    "https://www.grainmart.in/news/covid-19-coronavirus-india-state-and-district-wise-tally/\n",
    "    "
   ]
  },
  {
   "cell_type": "markdown",
   "metadata": {},
   "source": [
    "# grainmart.in/"
   ]
  },
  {
   "cell_type": "code",
   "execution_count": 413,
   "metadata": {},
   "outputs": [
    {
     "name": "stdout",
     "output_type": "stream",
     "text": [
      "<Response [200]>\n"
     ]
    }
   ],
   "source": [
    "# importing the Libraries\n",
    "import requests\n",
    "import bs4\n",
    "from bs4 import BeautifulSoup\n",
    "import pandas as pd\n",
    "\n",
    "def GetCovidTotal():\n",
    "    sources = requests.get('https://www.grainmart.in/news/covid-19-coronavirus-india-state-and-district-wise-tally/')\n",
    "    print(sources) \n",
    "    if sources.status_code!=200:\n",
    "        return 'url data not available'\n",
    "    #parsing the whole page\n",
    "    soup = BeautifulSoup(sources.content,\"html.parser\")\n",
    "    # looping over each card in a single page  \n",
    "    for i in soup.findAll('div',{'class':'col col-sm contact-section'}):\n",
    "        date = i.text\n",
    "    state_list, dist_list = [], []\n",
    "    for i in soup.findAll('div',{'class':'skgm-td state-td'}):\n",
    "        state_list.append(i.text.strip())\n",
    "    for i in soup.findAll('div',{'class':'skgm-tr'}):\n",
    "        dist_list.append(i.text)\n",
    "    No_State = len(state_list)\n",
    "    No_dist = (len(dist_list)-No_State)      # dist_list contain state name alse\n",
    "    for card in soup.findAll( 'div',{\"class\":\"skgm-th total-cases\"}):   \n",
    "        for i in card.findAll('div',{'class':'td-tc'}):\n",
    "            Cases = i.text\n",
    "        for i in card.findAll('div',{'class':'td-tdc'}):\n",
    "             Last_Cases = i.text\n",
    "        for i in card.findAll('div',{'class':'td-tr'}):\n",
    "            Cured = i.text\n",
    "        for i in card.findAll('div',{'class':'td-tdr'}):\n",
    "            Last_Cured = (i.text)\n",
    "        for i in card.findAll('div',{'class':'td-ta'}):\n",
    "            Active = i.text\n",
    "        for i in card.findAll('div',{'class':'td-td'}):\n",
    "            Deaths = i.text\n",
    "        for i in card.findAll('div',{'class':'td-tdd'}):\n",
    "            Last_Deaths = i.text\n",
    "    data = {'Date':date, 'Overall Total':{'Cases':Cases, 'Cured':Cured, 'Active':Active, 'Deaths':Deaths},\n",
    "            'Last 24 hours Increase':{'Cases':Last_Cases, 'Cured':Last_Cured, 'Deaths':Last_Deaths},\n",
    "            'In available data from ( https://www.grainmart.in/news/covid-19-coronavirus-india-state-and-district-wise-tally/ )':\n",
    "            {'Number of States and Union Territories of INDIA ':No_State,\n",
    "            'List of States and Union Territories of INDIA ':state_list,\n",
    "            'Number of Districts and other state':No_dist}\n",
    "            }\n",
    "    return data\n",
    "data1 = GetCovidTotal()\n"
   ]
  },
  {
   "cell_type": "code",
   "execution_count": 434,
   "metadata": {},
   "outputs": [
    {
     "name": "stdout",
     "output_type": "stream",
     "text": [
      "<Response [200]>\n"
     ]
    }
   ],
   "source": [
    "# importing the Libraries\n",
    "import requests\n",
    "import bs4\n",
    "from bs4 import BeautifulSoup\n",
    "import pandas as pd\n",
    "\n",
    "def GetCovidStateData():\n",
    "    STATE_UT = []\n",
    "    Cases = []\n",
    "    Cured = []\n",
    "    Active = []\n",
    "    Deaths = []\n",
    "    Last_Cases = []\n",
    "    Last_Cured = []\n",
    "    Last_Deaths = []\n",
    "    sources = requests.get('https://www.grainmart.in/news/covid-19-coronavirus-india-state-and-district-wise-tally/')\n",
    "    print(sources) \n",
    "    if sources.status_code!=200:\n",
    "        return 'url data not available'\n",
    "    #parsing the whole page\n",
    "    soup = BeautifulSoup(sources.content,\"html.parser\")\n",
    "    # looping over each card in a single page\n",
    "    for card in soup.findAll( 'section',{\"id\":\"covid-19-table\"}):   \n",
    "        for i in card.findAll('div',{'class':'skgm-td state-td'}):\n",
    "            STATE_UT.append(i.text.strip())\n",
    "        for i in card.findAll('div',{'class':'td-sc'}):\n",
    "            Cases.append(i.text)\n",
    "        for i in card.findAll('div',{'class':'td-sdc'}):\n",
    "            Last_Cases.append(i.text)\n",
    "        for i in card.findAll('div',{'class':'td-sr'}):\n",
    "            Cured.append(i.text)\n",
    "        for i in card.findAll('div',{'class':'td-sdr'}):\n",
    "            Last_Cured.append(i.text)\n",
    "        for i in card.findAll('div',{'class':'td-sa'}):\n",
    "            Active.append(i.text)\n",
    "        for i in card.findAll('div',{'class':'td-sd'}):\n",
    "            Deaths.append(i.text)\n",
    "        for i in card.findAll('div',{'class':'td-sdd'}):\n",
    "            Last_Deaths.append(i.text)\n",
    "    # creating the dataframe and assigning each column with the data from the lists \n",
    "    df = pd.DataFrame({\n",
    "        'STATE_UT': STATE_UT,\n",
    "        'Cases':Cases,\n",
    "        'Cured':Cured,\n",
    "        'Active':Active,\n",
    "        'Deaths':Deaths,\n",
    "        'New_Cases':Last_Cases,\n",
    "        'New_Cured':Last_Cured,\n",
    "        'New_Deaths':Last_Deaths\n",
    "        })\n",
    "    df['New_Cases'].replace('','0',inplace=True)\n",
    "    df['New_Cured'].replace('','0',inplace=True)\n",
    "    df['New_Deaths'].replace('','0',inplace=True)\n",
    "    return df\n",
    "df1 = GetCovidStateData()\n",
    "# df1"
   ]
  },
  {
   "cell_type": "code",
   "execution_count": 435,
   "metadata": {},
   "outputs": [
    {
     "name": "stdout",
     "output_type": "stream",
     "text": [
      "<Response [200]>\n",
      "<Response [200]>\n"
     ]
    }
   ],
   "source": [
    "# importing the Libraries\n",
    "import requests\n",
    "import bs4\n",
    "from bs4 import BeautifulSoup\n",
    "import pandas as pd\n",
    "\n",
    "def GetCovidDistrictData():\n",
    "    temp_dist = []\n",
    "    Districts = []\n",
    "    Cases = []\n",
    "    Cured = []\n",
    "    Active = []\n",
    "    Deaths = []\n",
    "    Last_Cases = []\n",
    "    Last_Cured = []\n",
    "    Last_Deaths = []\n",
    "    sources = requests.get('https://www.grainmart.in/news/covid-19-coronavirus-india-state-and-district-wise-tally/')\n",
    "    print(sources)\n",
    "    if sources.status_code!=200:\n",
    "        return 'url data not available'\n",
    "    #parsing the whole page\n",
    "    soup = BeautifulSoup(sources.content,\"html.parser\")\n",
    "    # looping over each card in a single page\n",
    "    for card in soup.findAll( 'div',{\"class\":\"skgm-districts\"}):   \n",
    "        for i in card.findAll('div',{'class':'skgm-tr'}):\n",
    "            for i in i.findAll('div',{'class':'skgm-td'}):\n",
    "                temp_dist.append(i.text)\n",
    "        for i in card.findAll('div',{'class':'td-dc'}):\n",
    "            Cases.append(i.text)\n",
    "        for i in card.findAll('div',{'class':'td-ddc'}):\n",
    "            Last_Cases.append(i.text)\n",
    "        for i in card.findAll('div',{'class':'td-dr'}):\n",
    "            Cured.append(i.text)\n",
    "        for i in card.findAll('div',{'class':'td-ddr'}):\n",
    "            Last_Cured.append(i.text)\n",
    "        for i in card.findAll('div',{'class':'td-da'}):\n",
    "            Active.append(i.text)\n",
    "        for i in card.findAll('div',{'class':'td-dd'}):\n",
    "            Deaths.append(i.text)\n",
    "        for i in card.findAll('div',{'class':'td-ddd'}):\n",
    "            Last_Deaths.append(i.text)\n",
    "    # Find out only District\n",
    "    for i in range(0,len(temp_dist),5):\n",
    "        Districts.append(temp_dist[i])\n",
    "    # creating the dataframe and assigning each column with the data from the lists \n",
    "    df_temp = pd.DataFrame({\n",
    "        'Districts': Districts,\n",
    "        'Cases':Cases,\n",
    "        'Cured':Cured,\n",
    "        'Active':Active,\n",
    "        'Deaths':Deaths,\n",
    "        'New_Cases':Last_Cases,\n",
    "        'New_Cured':Last_Cured,\n",
    "        'New_Deaths':Last_Deaths\n",
    "        })\n",
    "    df_temp['New_Cases'].replace('','0',inplace=True)\n",
    "    df_temp['New_Cured'].replace('','0',inplace=True)\n",
    "    df_temp['New_Deaths'].replace('','0',inplace=True)\n",
    "    \n",
    "    df1 = GetCovidStateData()    # Get covid state wise data\n",
    "    if type(df1)==str:\n",
    "        return'Covid State Data data not available'\n",
    "    state = list(df1['STATE_UT'])\n",
    "    num_dist = []\n",
    "    for card in soup.findAll( 'div',{\"class\":\"skgm-states\"}): \n",
    "        w = 0\n",
    "        for i in card.findAll('div',{'class':\"skgm-tr\"}):\n",
    "            w+=1\n",
    "            #print(i.text)\n",
    "        #print(w-1)       # w-1 because it contain state name also\n",
    "        num_dist.append(w-1)\n",
    "    state_list = []\n",
    "    for index,numb in enumerate(num_dist):\n",
    "        for j in range(0,numb):\n",
    "            state_list.append(state[index])\n",
    "    # final df \n",
    "    df = df_temp\n",
    "    df['STATE_UT'] = state_list\n",
    "    return df\n",
    "\n",
    "df2 = GetCovidDistrictData()"
   ]
  },
  {
   "cell_type": "code",
   "execution_count": 436,
   "metadata": {},
   "outputs": [
    {
     "data": {
      "text/plain": [
       "{'Date': 'Tuesday, April 6, 2021',\n",
       " 'Overall Total': {'Cases': '12684484',\n",
       "  'Cured': '11730054',\n",
       "  'Active': '783844',\n",
       "  'Deaths': '165577'},\n",
       " 'Last 24 hours Increase': {'Cases': '96563',\n",
       "  'Cured': '50095',\n",
       "  'Deaths': '445'},\n",
       " 'In available data from ( https://www.grainmart.in/news/covid-19-coronavirus-india-state-and-district-wise-tally/ )': {'Number of States and Union Territories of INDIA ': 36,\n",
       "  'List of States and Union Territories of INDIA ': ['Maharashtra',\n",
       "   'Kerala',\n",
       "   'Karnataka',\n",
       "   'Andhra Pradesh',\n",
       "   'Tamil Nadu',\n",
       "   'Delhi',\n",
       "   'Uttar Pradesh',\n",
       "   'West Bengal',\n",
       "   'Chhattisgarh',\n",
       "   'Odisha',\n",
       "   'Rajasthan',\n",
       "   'Gujarat',\n",
       "   'Telangana',\n",
       "   'Madhya Pradesh',\n",
       "   'Haryana',\n",
       "   'Bihar',\n",
       "   'Punjab',\n",
       "   'Assam',\n",
       "   'Jammu and Kashmir',\n",
       "   'Jharkhand',\n",
       "   'Uttarakhand',\n",
       "   'Himachal Pradesh',\n",
       "   'Goa',\n",
       "   'Puducherry',\n",
       "   'Tripura',\n",
       "   'Manipur',\n",
       "   'Chandigarh',\n",
       "   'Arunachal Pradesh',\n",
       "   'Meghalaya',\n",
       "   'Nagaland',\n",
       "   'Ladakh',\n",
       "   'Sikkim',\n",
       "   'Andaman and Nicobar Islands',\n",
       "   'Mizoram',\n",
       "   'Dadra and Nagar Haveli and Daman and Diu',\n",
       "   'Lakshadweep'],\n",
       "  'Number of Districts and other state': 774}}"
      ]
     },
     "execution_count": 436,
     "metadata": {},
     "output_type": "execute_result"
    }
   ],
   "source": [
    "data1"
   ]
  },
  {
   "cell_type": "code",
   "execution_count": 437,
   "metadata": {
    "scrolled": true
   },
   "outputs": [
    {
     "data": {
      "text/html": [
       "<div>\n",
       "<style scoped>\n",
       "    .dataframe tbody tr th:only-of-type {\n",
       "        vertical-align: middle;\n",
       "    }\n",
       "\n",
       "    .dataframe tbody tr th {\n",
       "        vertical-align: top;\n",
       "    }\n",
       "\n",
       "    .dataframe thead th {\n",
       "        text-align: right;\n",
       "    }\n",
       "</style>\n",
       "<table border=\"1\" class=\"dataframe\">\n",
       "  <thead>\n",
       "    <tr style=\"text-align: right;\">\n",
       "      <th></th>\n",
       "      <th>STATE_UT</th>\n",
       "      <th>Cases</th>\n",
       "      <th>Cured</th>\n",
       "      <th>Active</th>\n",
       "      <th>Deaths</th>\n",
       "      <th>New_Cases</th>\n",
       "      <th>New_Cured</th>\n",
       "      <th>New_Deaths</th>\n",
       "    </tr>\n",
       "  </thead>\n",
       "  <tbody>\n",
       "    <tr>\n",
       "      <th>0</th>\n",
       "      <td>Maharashtra</td>\n",
       "      <td>3057885</td>\n",
       "      <td>2549075</td>\n",
       "      <td>451375</td>\n",
       "      <td>56033</td>\n",
       "      <td>47288</td>\n",
       "      <td>26252</td>\n",
       "      <td>155</td>\n",
       "    </tr>\n",
       "    <tr>\n",
       "      <th>1</th>\n",
       "      <td>Kerala</td>\n",
       "      <td>1137591</td>\n",
       "      <td>1104225</td>\n",
       "      <td>28370</td>\n",
       "      <td>4681</td>\n",
       "      <td>2357</td>\n",
       "      <td>1866</td>\n",
       "      <td>12</td>\n",
       "    </tr>\n",
       "    <tr>\n",
       "      <th>2</th>\n",
       "      <td>Karnataka</td>\n",
       "      <td>1020434</td>\n",
       "      <td>965275</td>\n",
       "      <td>42483</td>\n",
       "      <td>12657</td>\n",
       "      <td>5279</td>\n",
       "      <td>1856</td>\n",
       "      <td>32</td>\n",
       "    </tr>\n",
       "    <tr>\n",
       "      <th>3</th>\n",
       "      <td>Andhra Pradesh</td>\n",
       "      <td>909002</td>\n",
       "      <td>891048</td>\n",
       "      <td>10710</td>\n",
       "      <td>7244</td>\n",
       "      <td>1326</td>\n",
       "      <td>911</td>\n",
       "      <td>5</td>\n",
       "    </tr>\n",
       "    <tr>\n",
       "      <th>4</th>\n",
       "      <td>Tamil Nadu</td>\n",
       "      <td>903479</td>\n",
       "      <td>866913</td>\n",
       "      <td>23777</td>\n",
       "      <td>12789</td>\n",
       "      <td>3672</td>\n",
       "      <td>1842</td>\n",
       "      <td>11</td>\n",
       "    </tr>\n",
       "  </tbody>\n",
       "</table>\n",
       "</div>"
      ],
      "text/plain": [
       "         STATE_UT    Cases    Cured  Active Deaths New_Cases New_Cured  \\\n",
       "0     Maharashtra  3057885  2549075  451375  56033     47288     26252   \n",
       "1          Kerala  1137591  1104225   28370   4681      2357      1866   \n",
       "2       Karnataka  1020434   965275   42483  12657      5279      1856   \n",
       "3  Andhra Pradesh   909002   891048   10710   7244      1326       911   \n",
       "4      Tamil Nadu   903479   866913   23777  12789      3672      1842   \n",
       "\n",
       "  New_Deaths  \n",
       "0        155  \n",
       "1         12  \n",
       "2         32  \n",
       "3          5  \n",
       "4         11  "
      ]
     },
     "execution_count": 437,
     "metadata": {},
     "output_type": "execute_result"
    }
   ],
   "source": [
    "df1.head()"
   ]
  },
  {
   "cell_type": "code",
   "execution_count": 438,
   "metadata": {},
   "outputs": [
    {
     "data": {
      "text/html": [
       "<div>\n",
       "<style scoped>\n",
       "    .dataframe tbody tr th:only-of-type {\n",
       "        vertical-align: middle;\n",
       "    }\n",
       "\n",
       "    .dataframe tbody tr th {\n",
       "        vertical-align: top;\n",
       "    }\n",
       "\n",
       "    .dataframe thead th {\n",
       "        text-align: right;\n",
       "    }\n",
       "</style>\n",
       "<table border=\"1\" class=\"dataframe\">\n",
       "  <thead>\n",
       "    <tr style=\"text-align: right;\">\n",
       "      <th></th>\n",
       "      <th>Districts</th>\n",
       "      <th>Cases</th>\n",
       "      <th>Cured</th>\n",
       "      <th>Active</th>\n",
       "      <th>Deaths</th>\n",
       "      <th>New_Cases</th>\n",
       "      <th>New_Cured</th>\n",
       "      <th>New_Deaths</th>\n",
       "      <th>STATE_UT</th>\n",
       "    </tr>\n",
       "  </thead>\n",
       "  <tbody>\n",
       "    <tr>\n",
       "      <th>0</th>\n",
       "      <td>Pune</td>\n",
       "      <td>584969</td>\n",
       "      <td>495102</td>\n",
       "      <td>81378</td>\n",
       "      <td>8440</td>\n",
       "      <td>8211</td>\n",
       "      <td>8144</td>\n",
       "      <td>6</td>\n",
       "      <td>Maharashtra</td>\n",
       "    </tr>\n",
       "    <tr>\n",
       "      <th>1</th>\n",
       "      <td>Mumbai</td>\n",
       "      <td>462560</td>\n",
       "      <td>376484</td>\n",
       "      <td>73281</td>\n",
       "      <td>11800</td>\n",
       "      <td>9879</td>\n",
       "      <td>3371</td>\n",
       "      <td>21</td>\n",
       "      <td>Maharashtra</td>\n",
       "    </tr>\n",
       "    <tr>\n",
       "      <th>2</th>\n",
       "      <td>Thane</td>\n",
       "      <td>367440</td>\n",
       "      <td>303638</td>\n",
       "      <td>57635</td>\n",
       "      <td>6136</td>\n",
       "      <td>5786</td>\n",
       "      <td>1371</td>\n",
       "      <td>10</td>\n",
       "      <td>Maharashtra</td>\n",
       "    </tr>\n",
       "    <tr>\n",
       "      <th>3</th>\n",
       "      <td>Nagpur</td>\n",
       "      <td>249867</td>\n",
       "      <td>189814</td>\n",
       "      <td>55926</td>\n",
       "      <td>4081</td>\n",
       "      <td>3628</td>\n",
       "      <td>1330</td>\n",
       "      <td>10</td>\n",
       "      <td>Maharashtra</td>\n",
       "    </tr>\n",
       "    <tr>\n",
       "      <th>4</th>\n",
       "      <td>Nashik</td>\n",
       "      <td>197725</td>\n",
       "      <td>160869</td>\n",
       "      <td>34540</td>\n",
       "      <td>2315</td>\n",
       "      <td>4170</td>\n",
       "      <td>1354</td>\n",
       "      <td>13</td>\n",
       "      <td>Maharashtra</td>\n",
       "    </tr>\n",
       "  </tbody>\n",
       "</table>\n",
       "</div>"
      ],
      "text/plain": [
       "  Districts   Cases   Cured Active Deaths New_Cases New_Cured New_Deaths  \\\n",
       "0      Pune  584969  495102  81378   8440      8211      8144          6   \n",
       "1    Mumbai  462560  376484  73281  11800      9879      3371         21   \n",
       "2     Thane  367440  303638  57635   6136      5786      1371         10   \n",
       "3    Nagpur  249867  189814  55926   4081      3628      1330         10   \n",
       "4    Nashik  197725  160869  34540   2315      4170      1354         13   \n",
       "\n",
       "      STATE_UT  \n",
       "0  Maharashtra  \n",
       "1  Maharashtra  \n",
       "2  Maharashtra  \n",
       "3  Maharashtra  \n",
       "4  Maharashtra  "
      ]
     },
     "execution_count": 438,
     "metadata": {},
     "output_type": "execute_result"
    }
   ],
   "source": [
    "df2.head()"
   ]
  },
  {
   "cell_type": "code",
   "execution_count": 439,
   "metadata": {},
   "outputs": [
    {
     "data": {
      "text/plain": [
       "'Maharashtra'"
      ]
     },
     "execution_count": 439,
     "metadata": {},
     "output_type": "execute_result"
    }
   ],
   "source": [
    "df2['STATE_UT'][5]"
   ]
  },
  {
   "cell_type": "code",
   "execution_count": 440,
   "metadata": {},
   "outputs": [
    {
     "data": {
      "text/html": [
       "<div>\n",
       "<style scoped>\n",
       "    .dataframe tbody tr th:only-of-type {\n",
       "        vertical-align: middle;\n",
       "    }\n",
       "\n",
       "    .dataframe tbody tr th {\n",
       "        vertical-align: top;\n",
       "    }\n",
       "\n",
       "    .dataframe thead th {\n",
       "        text-align: right;\n",
       "    }\n",
       "</style>\n",
       "<table border=\"1\" class=\"dataframe\">\n",
       "  <thead>\n",
       "    <tr style=\"text-align: right;\">\n",
       "      <th></th>\n",
       "      <th>Districts</th>\n",
       "      <th>Cases</th>\n",
       "      <th>Cured</th>\n",
       "      <th>Active</th>\n",
       "      <th>Deaths</th>\n",
       "      <th>New_Cases</th>\n",
       "      <th>New_Cured</th>\n",
       "      <th>New_Deaths</th>\n",
       "      <th>STATE_UT</th>\n",
       "    </tr>\n",
       "  </thead>\n",
       "  <tbody>\n",
       "    <tr>\n",
       "      <th>662</th>\n",
       "      <td>Unknown</td>\n",
       "      <td>52936</td>\n",
       "      <td>53737</td>\n",
       "      <td>-1446</td>\n",
       "      <td>645</td>\n",
       "      <td>0</td>\n",
       "      <td>0</td>\n",
       "      <td>0</td>\n",
       "      <td>Goa</td>\n",
       "    </tr>\n",
       "    <tr>\n",
       "      <th>663</th>\n",
       "      <td>South Goa</td>\n",
       "      <td>3511</td>\n",
       "      <td>1407</td>\n",
       "      <td>1978</td>\n",
       "      <td>126</td>\n",
       "      <td>0</td>\n",
       "      <td>0</td>\n",
       "      <td>0</td>\n",
       "      <td>Goa</td>\n",
       "    </tr>\n",
       "    <tr>\n",
       "      <th>664</th>\n",
       "      <td>North Goa</td>\n",
       "      <td>2668</td>\n",
       "      <td>964</td>\n",
       "      <td>1639</td>\n",
       "      <td>65</td>\n",
       "      <td>0</td>\n",
       "      <td>0</td>\n",
       "      <td>0</td>\n",
       "      <td>Goa</td>\n",
       "    </tr>\n",
       "    <tr>\n",
       "      <th>665</th>\n",
       "      <td>Other State</td>\n",
       "      <td>200</td>\n",
       "      <td>190</td>\n",
       "      <td>9</td>\n",
       "      <td>1</td>\n",
       "      <td>0</td>\n",
       "      <td>0</td>\n",
       "      <td>0</td>\n",
       "      <td>Goa</td>\n",
       "    </tr>\n",
       "  </tbody>\n",
       "</table>\n",
       "</div>"
      ],
      "text/plain": [
       "       Districts  Cases  Cured Active Deaths New_Cases New_Cured New_Deaths  \\\n",
       "662      Unknown  52936  53737  -1446    645         0         0          0   \n",
       "663    South Goa   3511   1407   1978    126         0         0          0   \n",
       "664    North Goa   2668    964   1639     65         0         0          0   \n",
       "665  Other State    200    190      9      1         0         0          0   \n",
       "\n",
       "    STATE_UT  \n",
       "662      Goa  \n",
       "663      Goa  \n",
       "664      Goa  \n",
       "665      Goa  "
      ]
     },
     "execution_count": 440,
     "metadata": {},
     "output_type": "execute_result"
    }
   ],
   "source": [
    "df2[df2['STATE_UT']=='Goa']"
   ]
  },
  {
   "cell_type": "code",
   "execution_count": 442,
   "metadata": {},
   "outputs": [
    {
     "data": {
      "text/html": [
       "<div>\n",
       "<style scoped>\n",
       "    .dataframe tbody tr th:only-of-type {\n",
       "        vertical-align: middle;\n",
       "    }\n",
       "\n",
       "    .dataframe tbody tr th {\n",
       "        vertical-align: top;\n",
       "    }\n",
       "\n",
       "    .dataframe thead th {\n",
       "        text-align: right;\n",
       "    }\n",
       "</style>\n",
       "<table border=\"1\" class=\"dataframe\">\n",
       "  <thead>\n",
       "    <tr style=\"text-align: right;\">\n",
       "      <th></th>\n",
       "      <th>Districts</th>\n",
       "      <th>Cases</th>\n",
       "      <th>Cured</th>\n",
       "      <th>Active</th>\n",
       "      <th>Deaths</th>\n",
       "      <th>New_Cases</th>\n",
       "      <th>New_Cured</th>\n",
       "      <th>New_Deaths</th>\n",
       "      <th>STATE_UT</th>\n",
       "    </tr>\n",
       "  </thead>\n",
       "  <tbody>\n",
       "    <tr>\n",
       "      <th>0</th>\n",
       "      <td>Pune</td>\n",
       "      <td>584969</td>\n",
       "      <td>495102</td>\n",
       "      <td>81378</td>\n",
       "      <td>8440</td>\n",
       "      <td>8211</td>\n",
       "      <td>8144</td>\n",
       "      <td>6</td>\n",
       "      <td>Maharashtra</td>\n",
       "    </tr>\n",
       "  </tbody>\n",
       "</table>\n",
       "</div>"
      ],
      "text/plain": [
       "  Districts   Cases   Cured Active Deaths New_Cases New_Cured New_Deaths  \\\n",
       "0      Pune  584969  495102  81378   8440      8211      8144          6   \n",
       "\n",
       "      STATE_UT  \n",
       "0  Maharashtra  "
      ]
     },
     "execution_count": 442,
     "metadata": {},
     "output_type": "execute_result"
    }
   ],
   "source": [
    "v = df2[df2['Districts']=='Pune']\n",
    "v"
   ]
  },
  {
   "cell_type": "code",
   "execution_count": 445,
   "metadata": {
    "scrolled": true
   },
   "outputs": [
    {
     "name": "stdout",
     "output_type": "stream",
     "text": [
      "<Response [200]>\n",
      "<Response [200]>\n",
      "<Response [200]>\n",
      "<Response [200]>\n"
     ]
    },
    {
     "data": {
      "text/plain": [
       "{'Date Time': 'Tuesday, April 6, 2021',\n",
       " 'Detail Data for state': {'State Name': 'Maharashtra',\n",
       "  'Total Number of Cases': '3057885',\n",
       "  'Total Number of Cured': '2549075',\n",
       "  'Total Number of Active': '451375',\n",
       "  'Total Number of Deaths': '56033',\n",
       "  'Last 24 hours Increase': {'Cases': '47288',\n",
       "   'Cured': '26252',\n",
       "   'Deaths': '155'}},\n",
       " 'Districts': {'Pune': {'Cases': '584969',\n",
       "   'Cured': '495102',\n",
       "   'Active': '81378',\n",
       "   'Deaths': '8440',\n",
       "   'Last 24 hours Increase': {'Cases': '8211',\n",
       "    'Cured': '8144',\n",
       "    'Deaths': '6'}},\n",
       "  'Mumbai': {'Cases': '462560',\n",
       "   'Cured': '376484',\n",
       "   'Active': '73281',\n",
       "   'Deaths': '11800',\n",
       "   'Last 24 hours Increase': {'Cases': '9879',\n",
       "    'Cured': '3371',\n",
       "    'Deaths': '21'}},\n",
       "  'Thane': {'Cases': '367440',\n",
       "   'Cured': '303638',\n",
       "   'Active': '57635',\n",
       "   'Deaths': '6136',\n",
       "   'Last 24 hours Increase': {'Cases': '5786',\n",
       "    'Cured': '1371',\n",
       "    'Deaths': '10'}},\n",
       "  'Nagpur': {'Cases': '249867',\n",
       "   'Cured': '189814',\n",
       "   'Active': '55926',\n",
       "   'Deaths': '4081',\n",
       "   'Last 24 hours Increase': {'Cases': '3628',\n",
       "    'Cured': '1330',\n",
       "    'Deaths': '10'}},\n",
       "  'Nashik': {'Cases': '197725',\n",
       "   'Cured': '160869',\n",
       "   'Active': '34540',\n",
       "   'Deaths': '2315',\n",
       "   'Last 24 hours Increase': {'Cases': '4170',\n",
       "    'Cured': '1354',\n",
       "    'Deaths': '13'}},\n",
       "  'Ahmednagar': {'Cases': '102361',\n",
       "   'Cured': '85404',\n",
       "   'Active': '15716',\n",
       "   'Deaths': '1240',\n",
       "   'Last 24 hours Increase': {'Cases': '1776', 'Cured': '350', 'Deaths': '3'}},\n",
       "  'Jalgaon': {'Cases': '90992',\n",
       "   'Cured': '82218',\n",
       "   'Active': '7141',\n",
       "   'Deaths': '1607',\n",
       "   'Last 24 hours Increase': {'Cases': '578', 'Cured': '1856', 'Deaths': '2'}},\n",
       "  'Aurangabad': {'Cases': '90572',\n",
       "   'Cured': '72307',\n",
       "   'Active': '16818',\n",
       "   'Deaths': '1433',\n",
       "   'Last 24 hours Increase': {'Cases': '1052', 'Cured': '287', 'Deaths': '1'}},\n",
       "  'Raigad': {'Cases': '85109',\n",
       "   'Cured': '77541',\n",
       "   'Active': '5859',\n",
       "   'Deaths': '1707',\n",
       "   'Last 24 hours Increase': {'Cases': '792', 'Cured': '633', 'Deaths': '7'}},\n",
       "  'Solapur': {'Cases': '71225',\n",
       "   'Cured': '62256',\n",
       "   'Active': '6982',\n",
       "   'Deaths': '1936',\n",
       "   'Last 24 hours Increase': {'Cases': '685', 'Cured': '697', 'Deaths': '6'}},\n",
       "  'Satara': {'Cases': '68661',\n",
       "   'Cured': '61758',\n",
       "   'Active': '5000',\n",
       "   'Deaths': '1894',\n",
       "   'Last 24 hours Increase': {'Cases': '747', 'Cured': '378', 'Deaths': '2'}},\n",
       "  'Palghar': {'Cases': '57343',\n",
       "   'Cured': '51942',\n",
       "   'Active': '4373',\n",
       "   'Deaths': '1018',\n",
       "   'Last 24 hours Increase': {'Cases': '682', 'Cured': '1091', 'Deaths': '0'}},\n",
       "  'Sangli': {'Cases': '56107',\n",
       "   'Cured': '51358',\n",
       "   'Active': '2913',\n",
       "   'Deaths': '1834',\n",
       "   'Last 24 hours Increase': {'Cases': '290', 'Cured': '13', 'Deaths': '0'}},\n",
       "  'Kolhapur': {'Cases': '52049',\n",
       "   'Cured': '49210',\n",
       "   'Active': '1138',\n",
       "   'Deaths': '1698',\n",
       "   'Last 24 hours Increase': {'Cases': '144', 'Cured': '76', 'Deaths': '0'}},\n",
       "  'Amravati': {'Cases': '50268',\n",
       "   'Cured': '46099',\n",
       "   'Active': '3498',\n",
       "   'Deaths': '669',\n",
       "   'Last 24 hours Increase': {'Cases': '195', 'Cured': '136', 'Deaths': '5'}},\n",
       "  'Nanded': {'Cases': '49242',\n",
       "   'Cured': '37046',\n",
       "   'Active': '11299',\n",
       "   'Deaths': '891',\n",
       "   'Last 24 hours Increase': {'Cases': '892', 'Cured': '649', 'Deaths': '23'}},\n",
       "  'Latur': {'Cases': '36802',\n",
       "   'Cured': '28268',\n",
       "   'Active': '7752',\n",
       "   'Deaths': '779',\n",
       "   'Last 24 hours Increase': {'Cases': '786', 'Cured': '426', 'Deaths': '9'}},\n",
       "  'Buldhana': {'Cases': '31854',\n",
       "   'Cured': '24606',\n",
       "   'Active': '6949',\n",
       "   'Deaths': '294',\n",
       "   'Last 24 hours Increase': {'Cases': '1253', 'Cured': '109', 'Deaths': '0'}},\n",
       "  'Chandrapur': {'Cases': '30879',\n",
       "   'Cured': '27398',\n",
       "   'Active': '3027',\n",
       "   'Deaths': '452',\n",
       "   'Last 24 hours Increase': {'Cases': '322', 'Cured': '367', 'Deaths': '3'}},\n",
       "  'Akola': {'Cases': '30243',\n",
       "   'Cured': '25914',\n",
       "   'Active': '3850',\n",
       "   'Deaths': '475',\n",
       "   'Last 24 hours Increase': {'Cases': '469', 'Cured': '139', 'Deaths': '2'}},\n",
       "  'Yavatmal': {'Cases': '29759',\n",
       "   'Cured': '26160',\n",
       "   'Active': '3028',\n",
       "   'Deaths': '567',\n",
       "   'Last 24 hours Increase': {'Cases': '277', 'Cured': '289', 'Deaths': '2'}},\n",
       "  'Beed': {'Cases': '28301',\n",
       "   'Cured': '22991',\n",
       "   'Active': '4656',\n",
       "   'Deaths': '645',\n",
       "   'Last 24 hours Increase': {'Cases': '589', 'Cured': '588', 'Deaths': '3'}},\n",
       "  'Dhule': {'Cases': '28126',\n",
       "   'Cured': '21901',\n",
       "   'Active': '5834',\n",
       "   'Deaths': '387',\n",
       "   'Last 24 hours Increase': {'Cases': '346', 'Cured': '23', 'Deaths': '1'}},\n",
       "  'Jalna': {'Cases': '25961',\n",
       "   'Cured': '24106',\n",
       "   'Active': '1424',\n",
       "   'Deaths': '430',\n",
       "   'Last 24 hours Increase': {'Cases': '1055',\n",
       "    'Cured': '690',\n",
       "    'Deaths': '12'}},\n",
       "  'Wardha': {'Cases': '23063',\n",
       "   'Cured': '20565',\n",
       "   'Active': '2038',\n",
       "   'Deaths': '390',\n",
       "   'Last 24 hours Increase': {'Cases': '320', 'Cured': '282', 'Deaths': '5'}},\n",
       "  'Osmanabad': {'Cases': '22975',\n",
       "   'Cured': '18986',\n",
       "   'Active': '3371',\n",
       "   'Deaths': '601',\n",
       "   'Last 24 hours Increase': {'Cases': '241', 'Cured': '86', 'Deaths': '0'}},\n",
       "  'Bhandara': {'Cases': '21767',\n",
       "   'Cured': '15863',\n",
       "   'Active': '5580',\n",
       "   'Deaths': '322',\n",
       "   'Last 24 hours Increase': {'Cases': '651', 'Cured': '204', 'Deaths': '0'}},\n",
       "  'Nandurbar': {'Cases': '21053',\n",
       "   'Cured': '14614',\n",
       "   'Active': '6130',\n",
       "   'Deaths': '308',\n",
       "   'Last 24 hours Increase': {'Cases': '405', 'Cured': '187', 'Deaths': '4'}},\n",
       "  'Washim': {'Cases': '17521',\n",
       "   'Cured': '15217',\n",
       "   'Active': '2108',\n",
       "   'Deaths': '193',\n",
       "   'Last 24 hours Increase': {'Cases': '209', 'Cured': '567', 'Deaths': '0'}},\n",
       "  'Gondia': {'Cases': '17206',\n",
       "   'Cured': '15205',\n",
       "   'Active': '1814',\n",
       "   'Deaths': '181',\n",
       "   'Last 24 hours Increase': {'Cases': '246', 'Cured': '46', 'Deaths': '0'}},\n",
       "  'Parbhani': {'Cases': '16556',\n",
       "   'Cured': '9709',\n",
       "   'Active': '6474',\n",
       "   'Deaths': '362',\n",
       "   'Last 24 hours Increase': {'Cases': '329', 'Cured': '210', 'Deaths': '1'}},\n",
       "  'Ratnagiri': {'Cases': '13450',\n",
       "   'Cured': '12179',\n",
       "   'Active': '840',\n",
       "   'Deaths': '429',\n",
       "   'Last 24 hours Increase': {'Cases': '23', 'Cured': '2', 'Deaths': '0'}},\n",
       "  'Gadchiroli': {'Cases': '10424',\n",
       "   'Cured': '9780',\n",
       "   'Active': '526',\n",
       "   'Deaths': '110',\n",
       "   'Last 24 hours Increase': {'Cases': '78', 'Cured': '34', 'Deaths': '0'}},\n",
       "  'Hingoli': {'Cases': '7664',\n",
       "   'Cured': '5838',\n",
       "   'Active': '1709',\n",
       "   'Deaths': '117',\n",
       "   'Last 24 hours Increase': {'Cases': '111', 'Cured': '267', 'Deaths': '3'}},\n",
       "  'Sindhudurg': {'Cases': '7645',\n",
       "   'Cured': '6729',\n",
       "   'Active': '724',\n",
       "   'Deaths': '192',\n",
       "   'Last 24 hours Increase': {'Cases': '71', 'Cured': '0', 'Deaths': '1'}},\n",
       "  'Other State': {'Cases': '146',\n",
       "   'Cured': '0',\n",
       "   'Active': '44',\n",
       "   'Deaths': '100',\n",
       "   'Last 24 hours Increase': {'Cases': '0', 'Cured': '0', 'Deaths': '0'}},\n",
       "  'Mumbai Suburban': {'Cases': '0',\n",
       "   'Cured': '0',\n",
       "   'Active': '0',\n",
       "   'Deaths': '0',\n",
       "   'Last 24 hours Increase': {'Cases': '0', 'Cured': '0', 'Deaths': '0'}}}}"
      ]
     },
     "execution_count": 445,
     "metadata": {},
     "output_type": "execute_result"
    }
   ],
   "source": [
    "#get data in cleaned for States\n",
    "def GetStateReportFinal(state):\n",
    "    data1 = GetCovidTotal()\n",
    "    date = data1['Date']\n",
    "    state1 = state.lower()  # default white space \n",
    "    df1 = GetCovidStateData()    # Get covid state wise data\n",
    "    if type(df1)==str:\n",
    "        return'Covid State Data data not available'\n",
    "    df2 = GetCovidDistrictData()   # Get covid District wise data\n",
    "    if type(df2)==str:\n",
    "        return'Covid District Data data not available'\n",
    "    \n",
    "    temp = df1[df1['STATE_UT'].apply(lambda x: state1 == x.lower())]\n",
    "    if len(temp)==1:\n",
    "        st_list = list(set(temp['STATE_UT'].values))\n",
    "    else:\n",
    "        df_cntry = df1[df1['STATE_UT'].apply(lambda x: state1 in x.lower())]\n",
    "        st_list = list(set(df_cntry['STATE_UT'].values))\n",
    "    states = st_list[0]\n",
    "    temp2 = df1[df1['STATE_UT']==states]\n",
    "    temp3 = df2[df2['STATE_UT']==states]\n",
    "    STATE_UT = temp2['STATE_UT'].values[0]\n",
    "    Cases = temp2['Cases'].values[0]\n",
    "    Cured = temp2['Cured'].values[0]\n",
    "    Active = temp2['Active'].values[0]\n",
    "    Deaths = temp2['Deaths'].values[0]\n",
    "    last_Cases = temp2['New_Cases'].values[0]\n",
    "    last_Cured = temp2['New_Cured'].values[0]\n",
    "    Last_Deaths = temp2['New_Deaths'].values[0]\n",
    "    Districts = list(temp3['Districts'].values)\n",
    "    dist_data = {}\n",
    "    for i in Districts:\n",
    "        temp4 = temp3[temp3['Districts']==i]\n",
    "        Cases1 = temp4['Cases'].values[0]\n",
    "        Cured1 = temp4['Cured'].values[0]\n",
    "        Active1 = temp4['Active'].values[0]\n",
    "        Deaths1 = temp4['Deaths'].values[0]\n",
    "        last_Cases1 = temp4['New_Cases'].values[0]\n",
    "        last_Cured1 = temp4['New_Cured'].values[0]\n",
    "        Last_Deaths1 = temp4['New_Deaths'].values[0]\n",
    "        dist_data.update({i:{'Cases':Cases1, 'Cured':Cured1, 'Active':Active1, 'Deaths':Deaths1\n",
    "                            ,'Last 24 hours Increase': {'Cases': last_Cases1,'Cured': last_Cured1, 'Deaths': Last_Deaths1},\n",
    "                            }})\n",
    "#     \n",
    "    data = {'Date Time':date\n",
    "           , 'Detail Data for state':{'State Name':STATE_UT\n",
    "           , 'Total Number of Cases':Cases\n",
    "           , 'Total Number of Cured':Cured\n",
    "           , 'Total Number of Active':Active\n",
    "           , 'Total Number of Deaths':Deaths\n",
    "            ,'Last 24 hours Increase': {'Cases': last_Cases,'Cured': last_Cured, 'Deaths': Last_Deaths},\n",
    "           }\n",
    "           , 'Districts':dist_data,\n",
    "           }\n",
    "    return data\n",
    "\n",
    "# GetStateReport(state=\"maha\")\n",
    "data1 = GetStateReportFinal(state=\"maha\")\n",
    "    \n",
    "data1"
   ]
  },
  {
   "cell_type": "code",
   "execution_count": 451,
   "metadata": {},
   "outputs": [
    {
     "data": {
      "text/html": [
       "<div>\n",
       "<style scoped>\n",
       "    .dataframe tbody tr th:only-of-type {\n",
       "        vertical-align: middle;\n",
       "    }\n",
       "\n",
       "    .dataframe tbody tr th {\n",
       "        vertical-align: top;\n",
       "    }\n",
       "\n",
       "    .dataframe thead th {\n",
       "        text-align: right;\n",
       "    }\n",
       "</style>\n",
       "<table border=\"1\" class=\"dataframe\">\n",
       "  <thead>\n",
       "    <tr style=\"text-align: right;\">\n",
       "      <th></th>\n",
       "      <th>Districts</th>\n",
       "      <th>Cases</th>\n",
       "      <th>Cured</th>\n",
       "      <th>Active</th>\n",
       "      <th>Deaths</th>\n",
       "      <th>New_Cases</th>\n",
       "      <th>New_Cured</th>\n",
       "      <th>New_Deaths</th>\n",
       "      <th>STATE_UT</th>\n",
       "    </tr>\n",
       "  </thead>\n",
       "  <tbody>\n",
       "    <tr>\n",
       "      <th>0</th>\n",
       "      <td>Pune</td>\n",
       "      <td>584969</td>\n",
       "      <td>495102</td>\n",
       "      <td>81378</td>\n",
       "      <td>8440</td>\n",
       "      <td>8211</td>\n",
       "      <td>8144</td>\n",
       "      <td>6</td>\n",
       "      <td>Maharashtra</td>\n",
       "    </tr>\n",
       "    <tr>\n",
       "      <th>1</th>\n",
       "      <td>Mumbai</td>\n",
       "      <td>462560</td>\n",
       "      <td>376484</td>\n",
       "      <td>73281</td>\n",
       "      <td>11800</td>\n",
       "      <td>9879</td>\n",
       "      <td>3371</td>\n",
       "      <td>21</td>\n",
       "      <td>Maharashtra</td>\n",
       "    </tr>\n",
       "    <tr>\n",
       "      <th>2</th>\n",
       "      <td>Thane</td>\n",
       "      <td>367440</td>\n",
       "      <td>303638</td>\n",
       "      <td>57635</td>\n",
       "      <td>6136</td>\n",
       "      <td>5786</td>\n",
       "      <td>1371</td>\n",
       "      <td>10</td>\n",
       "      <td>Maharashtra</td>\n",
       "    </tr>\n",
       "    <tr>\n",
       "      <th>3</th>\n",
       "      <td>Nagpur</td>\n",
       "      <td>249867</td>\n",
       "      <td>189814</td>\n",
       "      <td>55926</td>\n",
       "      <td>4081</td>\n",
       "      <td>3628</td>\n",
       "      <td>1330</td>\n",
       "      <td>10</td>\n",
       "      <td>Maharashtra</td>\n",
       "    </tr>\n",
       "    <tr>\n",
       "      <th>4</th>\n",
       "      <td>Nashik</td>\n",
       "      <td>197725</td>\n",
       "      <td>160869</td>\n",
       "      <td>34540</td>\n",
       "      <td>2315</td>\n",
       "      <td>4170</td>\n",
       "      <td>1354</td>\n",
       "      <td>13</td>\n",
       "      <td>Maharashtra</td>\n",
       "    </tr>\n",
       "  </tbody>\n",
       "</table>\n",
       "</div>"
      ],
      "text/plain": [
       "  Districts   Cases   Cured Active Deaths New_Cases New_Cured New_Deaths  \\\n",
       "0      Pune  584969  495102  81378   8440      8211      8144          6   \n",
       "1    Mumbai  462560  376484  73281  11800      9879      3371         21   \n",
       "2     Thane  367440  303638  57635   6136      5786      1371         10   \n",
       "3    Nagpur  249867  189814  55926   4081      3628      1330         10   \n",
       "4    Nashik  197725  160869  34540   2315      4170      1354         13   \n",
       "\n",
       "      STATE_UT  \n",
       "0  Maharashtra  \n",
       "1  Maharashtra  \n",
       "2  Maharashtra  \n",
       "3  Maharashtra  \n",
       "4  Maharashtra  "
      ]
     },
     "execution_count": 451,
     "metadata": {},
     "output_type": "execute_result"
    }
   ],
   "source": [
    "df2.head()"
   ]
  },
  {
   "cell_type": "code",
   "execution_count": 458,
   "metadata": {},
   "outputs": [
    {
     "name": "stdout",
     "output_type": "stream",
     "text": [
      "<Response [200]>\n",
      "<Response [200]>\n",
      "<Response [200]>\n"
     ]
    },
    {
     "data": {
      "text/plain": [
       "{'Date Time': 'Tuesday, April 6, 2021',\n",
       " 'Detail Data for Districts': {'Districts Name': 'Pune',\n",
       "  'State Name': 'Maharashtra',\n",
       "  'Total Number of Cases': '584969',\n",
       "  'Total Number of Cured': '495102',\n",
       "  'Total Number of Active': '81378',\n",
       "  'Total Number of Deaths': '8440',\n",
       "  'Last 24 hours Increase': {'Cases': '8211', 'Cured': '8144', 'Deaths': '6'}}}"
      ]
     },
     "execution_count": 458,
     "metadata": {},
     "output_type": "execute_result"
    }
   ],
   "source": [
    "#get data in cleaned for States\n",
    "def GetDistrictReportFinal(dist):\n",
    "    data1 = GetCovidTotal()\n",
    "    date = data1['Date']\n",
    "    dist1 = dist.lower()  # default white space \n",
    "\n",
    "    df2 = GetCovidDistrictData()   # Get covid District wise data\n",
    "    if type(df2)==str:\n",
    "        return'Covid District Data data not available'\n",
    "    \n",
    "    temp = df2[df2['Districts'].apply(lambda x: dist1 == x.lower())]\n",
    "    if len(temp)==1:\n",
    "        dist_list = list(set(temp['Districts'].values))\n",
    "    else:\n",
    "        dist_df = df2[df2['Districts'].apply(lambda x: dist1 in x.lower())]\n",
    "        dist_list = list(set(dist_df['Districts'].values))\n",
    "    distr = dist_list[0]\n",
    "    temp2 = df2[df2['Districts']==distr]\n",
    "    STATE_UT = temp2['STATE_UT'].values[0]\n",
    "    Districts = temp2['Districts'].values[0]\n",
    "    Cases = temp2['Cases'].values[0]\n",
    "    Cured = temp2['Cured'].values[0]\n",
    "    Active = temp2['Active'].values[0]\n",
    "    Deaths = temp2['Deaths'].values[0]\n",
    "    last_Cases = temp2['New_Cases'].values[0]\n",
    "    last_Cured = temp2['New_Cured'].values[0]\n",
    "    Last_Deaths = temp2['New_Deaths'].values[0]\n",
    "\n",
    "    data = {'Date Time':date\n",
    "           , 'Detail Data for Districts':{'Districts Name':Districts, 'State Name': STATE_UT\n",
    "           , 'Total Number of Cases':Cases\n",
    "           , 'Total Number of Cured':Cured\n",
    "           , 'Total Number of Active':Active\n",
    "           , 'Total Number of Deaths':Deaths\n",
    "            ,'Last 24 hours Increase': {'Cases': last_Cases,'Cured': last_Cured, 'Deaths': Last_Deaths},\n",
    "           }\n",
    "           }\n",
    "    return data\n",
    "\n",
    "data3 = GetDistrictReportFinal(dist=\"pune\")\n",
    "    \n",
    "data3"
   ]
  },
  {
   "cell_type": "code",
   "execution_count": 455,
   "metadata": {},
   "outputs": [
    {
     "data": {
      "text/plain": [
       "'Pune'"
      ]
     },
     "execution_count": 455,
     "metadata": {},
     "output_type": "execute_result"
    }
   ],
   "source": [
    "data3['Detail Data for Districts']['Districts Name']"
   ]
  },
  {
   "cell_type": "code",
   "execution_count": 447,
   "metadata": {},
   "outputs": [
    {
     "data": {
      "text/plain": [
       "'Maharashtra'"
      ]
     },
     "execution_count": 447,
     "metadata": {},
     "output_type": "execute_result"
    }
   ],
   "source": [
    "data1['Detail Data for state']['State Name']"
   ]
  },
  {
   "cell_type": "code",
   "execution_count": 369,
   "metadata": {},
   "outputs": [
    {
     "name": "stdout",
     "output_type": "stream",
     "text": [
      "<Response [200]>\n"
     ]
    }
   ],
   "source": [
    "sources = requests.get('https://www.grainmart.in/news/covid-19-coronavirus-india-state-and-district-wise-tally/')\n",
    "print(sources) \n",
    "#parsing the whole page\n",
    "soup = BeautifulSoup(sources.content,\"html.parser\")\n",
    "# looping over each card in a single page  \n",
    "for i in soup.findAll('div',{'class':'col col-sm contact-section'}):\n",
    "    date = i.text"
   ]
  },
  {
   "cell_type": "code",
   "execution_count": 450,
   "metadata": {},
   "outputs": [
    {
     "data": {
      "text/plain": [
       "6"
      ]
     },
     "execution_count": 450,
     "metadata": {},
     "output_type": "execute_result"
    }
   ],
   "source": [
    "int('4/6/21'.split('/')[1])"
   ]
  },
  {
   "cell_type": "markdown",
   "metadata": {},
   "source": [
    "# mygov.in "
   ]
  },
  {
   "cell_type": "code",
   "execution_count": 304,
   "metadata": {},
   "outputs": [
    {
     "name": "stdout",
     "output_type": "stream",
     "text": [
      "<Response [200]>\n"
     ]
    },
    {
     "data": {
      "text/plain": [
       "{'Date Time': '05 Apr 2021, 08:00 IST (GMT+5:30)',\n",
       " 'District Reporting PDF url': 'https://www.mohfw.gov.in/pdf/StatewiseCovidHospitalslink19062020.pdf',\n",
       " 'Last Total Active Case': '6,91,597',\n",
       " 'Last Total Cured': '1,16,29,289',\n",
       " 'Last Total death': '1,64,623',\n",
       " 'Total Vaccinations': '79105163',\n",
       " 'Total Vaccinations Today': '1638464',\n",
       " 'Last Vaccination date': 'April 04, 2021'}"
      ]
     },
     "execution_count": 304,
     "metadata": {},
     "output_type": "execute_result"
    }
   ],
   "source": [
    "# importing the Libraries\n",
    "import requests\n",
    "import bs4\n",
    "from bs4 import BeautifulSoup\n",
    "import pandas as pd\n",
    "\n",
    "def GetOverAllInfo():\n",
    "    sources = requests.get('https://www.mygov.in/corona-data/covid19-statewise-status/')\n",
    "    print(sources) \n",
    "    soup = BeautifulSoup(sources.content,\"html.parser\")\n",
    "    for i in soup.findAll('div',{'class':'field field-name-field-total-vaccinations field-type-text field-label-above'}):\n",
    "        for j in i.findAll('div',{'class':'field-items'}):\n",
    "            Total_Vaccinations = j.text\n",
    "    for i in soup.findAll('div',{'class':'field field-name-field-total-vaccinations-today field-type-text field-label-above'}):\n",
    "        for j in i.findAll('div',{'class':'field-items'}):\n",
    "            Total_Vaccinations_Today = j.text\n",
    "    for i in soup.findAll('div',{'class':'field field-name-field-last-vaccination-date field-type-text field-label-above'}):\n",
    "        for j in i.findAll('div',{'class':'field-items'}):\n",
    "            Last_Vaccination_date = j.text\n",
    "\n",
    "    # looping over each card in a single page\n",
    "    for card in soup.findAll( 'div',{'class':'content'}):   \n",
    "        for i in card.findAll('div',{'class':'field field-name-field-covid-india-as-on field-type-text field-label-above'}):\n",
    "            for j in i.findAll('div',{'class':'field-items'}):\n",
    "                date_time = j.text\n",
    "        for i in card.findAll('div',{'class':'field field-name-field-district-reporting field-type-text field-label-above'}):\n",
    "            for j in i.findAll('div',{'class':'field-items'}):\n",
    "                District_Reporting = j.text\n",
    "        for i in card.findAll('div',{'class':'field field-name-field-last-total-active field-type-number-integer field-label-above'}):\n",
    "            for j in i.findAll('div',{'class':'field-items'}):\n",
    "                Last_Total_Active_Case = j.text\n",
    "        for i in card.findAll('div',{'class':'field field-name-field-last-total-cured field-type-number-integer field-label-above'}):\n",
    "            for j in i.findAll('div',{'class':'field-items'}):\n",
    "                Last_Total_Cured = j.text\n",
    "        for i in card.findAll('div',{'class':'field field-name-field-last-total-death field-type-number-integer field-label-above'}):\n",
    "            for j in i.findAll('div',{'class':'field-items'}):\n",
    "                Last_Total_death = j.text\n",
    "    if sources.status_code==200:\n",
    "#         print(sources.status_code)\n",
    "        data = {'Date Time':date_time\n",
    "                ,'District Reporting PDF url':District_Reporting\n",
    "                , 'Last Total Active Case':Last_Total_Active_Case\n",
    "                , 'Last Total Cured':Last_Total_Cured\n",
    "                , 'Last Total death':Last_Total_death\n",
    "                , 'Total Vaccinations':Total_Vaccinations\n",
    "                , 'Total Vaccinations Today':Total_Vaccinations_Today\n",
    "                , 'Last Vaccination date':Last_Vaccination_date\n",
    "               }\n",
    "    else:\n",
    "#         print(sources.status_code)\n",
    "        data = {'Data':'data not available'}\n",
    "    return data\n",
    "\n",
    "GetOverAllInfo()"
   ]
  },
  {
   "cell_type": "code",
   "execution_count": 339,
   "metadata": {
    "scrolled": true
   },
   "outputs": [],
   "source": [
    "def GetSataWiseData():\n",
    "    STATE_NAME = []\n",
    "    TOTAL_CONFIRMED = []\n",
    "    CURED_DISCHARGED_MIGRATED = []\n",
    "    DEATH = []\n",
    "    sources = requests.get('https://www.mygov.in/corona-data/covid19-statewise-status/')\n",
    "    #parsing the whole page\n",
    "    soup = BeautifulSoup(sources.content,\"html.parser\")\n",
    "    for card in soup.findAll( 'div',{'class':\"field field-name-field-select-state field-type-list-text field-label-above\"}):   \n",
    "        for i in card.findAll('div',{'class':'field-items'}):\n",
    "            STATE_NAME.append(i.text)\n",
    "    for card in soup.findAll( 'div',{'class':\"field field-name-field-total-confirmed-indians field-type-number-integer field-label-above\"}):   \n",
    "        for i in card.findAll('div',{'class':'field-items'}):\n",
    "            TOTAL_CONFIRMED.append(i.text)\n",
    "    for card in soup.findAll( 'div',{'class':\"field field-name-field-cured field-type-number-integer field-label-above\"}):   \n",
    "        for i in card.findAll('div',{'class':'field-items'}):\n",
    "            CURED_DISCHARGED_MIGRATED.append(i.text)\n",
    "    for card in soup.findAll( 'div',{'class':\"field field-name-field-deaths field-type-number-integer field-label-above\"}):   \n",
    "        for i in card.findAll('div',{'class':'field-items'}):\n",
    "            DEATH.append(i.text)\n",
    "            \n",
    "    if sources.status_code!=200:\n",
    "        return 'data not available'\n",
    "    # creating the dataframe and assigning each column with the data from the lists \n",
    "    df = pd.DataFrame({\n",
    "        'STATE_NAME': STATE_NAME,\n",
    "        'TOTAL_CONFIRMED':TOTAL_CONFIRMED,\n",
    "        'CURED_DISCHARGED_MIGRATED':CURED_DISCHARGED_MIGRATED,\n",
    "        'DEATH':DEATH\n",
    "        })\n",
    "    return df\n",
    "df = GetSataWiseData()"
   ]
  },
  {
   "cell_type": "code",
   "execution_count": 341,
   "metadata": {},
   "outputs": [
    {
     "data": {
      "text/html": [
       "<div>\n",
       "<style scoped>\n",
       "    .dataframe tbody tr th:only-of-type {\n",
       "        vertical-align: middle;\n",
       "    }\n",
       "\n",
       "    .dataframe tbody tr th {\n",
       "        vertical-align: top;\n",
       "    }\n",
       "\n",
       "    .dataframe thead th {\n",
       "        text-align: right;\n",
       "    }\n",
       "</style>\n",
       "<table border=\"1\" class=\"dataframe\">\n",
       "  <thead>\n",
       "    <tr style=\"text-align: right;\">\n",
       "      <th></th>\n",
       "      <th>STATE_NAME</th>\n",
       "      <th>TOTAL_CONFIRMED</th>\n",
       "      <th>CURED_DISCHARGED_MIGRATED</th>\n",
       "      <th>DEATH</th>\n",
       "    </tr>\n",
       "  </thead>\n",
       "  <tbody>\n",
       "    <tr>\n",
       "      <th>0</th>\n",
       "      <td>Andaman and Nicobar</td>\n",
       "      <td>5109</td>\n",
       "      <td>4990</td>\n",
       "      <td>62</td>\n",
       "    </tr>\n",
       "    <tr>\n",
       "      <th>1</th>\n",
       "      <td>Andhra Pradesh</td>\n",
       "      <td>907676</td>\n",
       "      <td>890137</td>\n",
       "      <td>7239</td>\n",
       "    </tr>\n",
       "    <tr>\n",
       "      <th>2</th>\n",
       "      <td>Arunachal Pradesh</td>\n",
       "      <td>16849</td>\n",
       "      <td>16785</td>\n",
       "      <td>56</td>\n",
       "    </tr>\n",
       "    <tr>\n",
       "      <th>3</th>\n",
       "      <td>Assam</td>\n",
       "      <td>218670</td>\n",
       "      <td>215597</td>\n",
       "      <td>1109</td>\n",
       "    </tr>\n",
       "    <tr>\n",
       "      <th>4</th>\n",
       "      <td>Bihar</td>\n",
       "      <td>268377</td>\n",
       "      <td>263233</td>\n",
       "      <td>1583</td>\n",
       "    </tr>\n",
       "  </tbody>\n",
       "</table>\n",
       "</div>"
      ],
      "text/plain": [
       "            STATE_NAME TOTAL_CONFIRMED CURED_DISCHARGED_MIGRATED DEATH\n",
       "0  Andaman and Nicobar            5109                      4990    62\n",
       "1       Andhra Pradesh          907676                    890137  7239\n",
       "2    Arunachal Pradesh           16849                     16785    56\n",
       "3                Assam          218670                    215597  1109\n",
       "4                Bihar          268377                    263233  1583"
      ]
     },
     "execution_count": 341,
     "metadata": {},
     "output_type": "execute_result"
    }
   ],
   "source": [
    "df.head()"
   ]
  },
  {
   "cell_type": "code",
   "execution_count": 342,
   "metadata": {},
   "outputs": [],
   "source": [
    "tem = df[df['STATE_NAME']=='Maharashtra']"
   ]
  },
  {
   "cell_type": "code",
   "execution_count": 343,
   "metadata": {},
   "outputs": [
    {
     "data": {
      "text/html": [
       "<div>\n",
       "<style scoped>\n",
       "    .dataframe tbody tr th:only-of-type {\n",
       "        vertical-align: middle;\n",
       "    }\n",
       "\n",
       "    .dataframe tbody tr th {\n",
       "        vertical-align: top;\n",
       "    }\n",
       "\n",
       "    .dataframe thead th {\n",
       "        text-align: right;\n",
       "    }\n",
       "</style>\n",
       "<table border=\"1\" class=\"dataframe\">\n",
       "  <thead>\n",
       "    <tr style=\"text-align: right;\">\n",
       "      <th></th>\n",
       "      <th>STATE_NAME</th>\n",
       "      <th>TOTAL_CONFIRMED</th>\n",
       "      <th>CURED_DISCHARGED_MIGRATED</th>\n",
       "      <th>DEATH</th>\n",
       "    </tr>\n",
       "  </thead>\n",
       "  <tbody>\n",
       "    <tr>\n",
       "      <th>19</th>\n",
       "      <td>Maharashtra</td>\n",
       "      <td>3010597</td>\n",
       "      <td>2522823</td>\n",
       "      <td>55878</td>\n",
       "    </tr>\n",
       "  </tbody>\n",
       "</table>\n",
       "</div>"
      ],
      "text/plain": [
       "     STATE_NAME TOTAL_CONFIRMED CURED_DISCHARGED_MIGRATED  DEATH\n",
       "19  Maharashtra         3010597                   2522823  55878"
      ]
     },
     "execution_count": 343,
     "metadata": {},
     "output_type": "execute_result"
    }
   ],
   "source": [
    "tem"
   ]
  },
  {
   "cell_type": "code",
   "execution_count": 344,
   "metadata": {},
   "outputs": [
    {
     "data": {
      "text/plain": [
       "'3010597'"
      ]
     },
     "execution_count": 344,
     "metadata": {},
     "output_type": "execute_result"
    }
   ],
   "source": [
    "tem['TOTAL_CONFIRMED'].values[0]"
   ]
  },
  {
   "cell_type": "code",
   "execution_count": 345,
   "metadata": {},
   "outputs": [
    {
     "data": {
      "text/plain": [
       "{'Date Time': '05 Apr 2021, 08:00 IST (GMT+5:30)',\n",
       " 'State': 'Maharashtra',\n",
       " 'TOTAL_CONFIRMED': '3010597',\n",
       " 'CURED_DISCHARGED_MIGRATED': '2522823',\n",
       " 'DEATH': '55878'}"
      ]
     },
     "execution_count": 345,
     "metadata": {},
     "output_type": "execute_result"
    }
   ],
   "source": [
    "#get data in cleaned for States\n",
    "def GetStateReport(state):\n",
    "    state1 = state.lower()\n",
    "    df = GetSataWiseData()\n",
    "    if type(df)==str:\n",
    "        return {'Data':'data not available'}\n",
    "    sources = requests.get('https://www.mygov.in/corona-data/covid19-statewise-status/')\n",
    "    #parsing the whole page\n",
    "    soup = BeautifulSoup(sources.content,\"html.parser\")\n",
    "    for card in soup.findAll( 'div',{'class':'content'}):   \n",
    "        for i in card.findAll('div',{'class':'field field-name-field-covid-india-as-on field-type-text field-label-above'}):\n",
    "            for j in i.findAll('div',{'class':'field-items'}):\n",
    "                date_time = j.text\n",
    "#     print(state1)\n",
    "    temp = df[df['STATE_NAME'].apply(lambda x: state1 == x.lower())]\n",
    "    if len(temp)==1:\n",
    "        st_list = list(set(temp['STATE_NAME'].values))\n",
    "    else:\n",
    "        df_cntry = df[df['STATE_NAME'].apply(lambda x: state1 in x.lower())]\n",
    "        st_list = list(set(df_cntry['STATE_NAME'].values))\n",
    "    states = st_list[0]\n",
    "    temp2 = df[df['STATE_NAME']==states]\n",
    "    TOTAL_CONFIRMED = temp2['TOTAL_CONFIRMED'].values[0]\n",
    "    CURED_DISCHARGED_MIGRATED = temp2['CURED_DISCHARGED_MIGRATED'].values[0]\n",
    "    DEATH = temp2['DEATH'].values[0]\n",
    "    data = {'Date Time':date_time\n",
    "           , 'State':states\n",
    "           , 'TOTAL_CONFIRMED':TOTAL_CONFIRMED\n",
    "           , 'CURED_DISCHARGED_MIGRATED':CURED_DISCHARGED_MIGRATED\n",
    "           , 'DEATH':DEATH\n",
    "           }\n",
    "    return data\n",
    "\n",
    "# GetStateReport(state=\"maha\")\n",
    "data1 = GetStateReport(state=\"maha\")\n",
    "data1"
   ]
  },
  {
   "cell_type": "code",
   "execution_count": 346,
   "metadata": {},
   "outputs": [
    {
     "data": {
      "text/plain": [
       "'Maharashtra'"
      ]
     },
     "execution_count": 346,
     "metadata": {},
     "output_type": "execute_result"
    }
   ],
   "source": [
    "data1['State']"
   ]
  },
  {
   "cell_type": "code",
   "execution_count": null,
   "metadata": {},
   "outputs": [],
   "source": []
  },
  {
   "cell_type": "code",
   "execution_count": null,
   "metadata": {},
   "outputs": [],
   "source": []
  },
  {
   "cell_type": "markdown",
   "metadata": {},
   "source": [
    "# Github Dataset "
   ]
  },
  {
   "cell_type": "code",
   "execution_count": 302,
   "metadata": {},
   "outputs": [],
   "source": [
    "\n",
    "import pandas as pd\n",
    "\n",
    "CONF_URL = 'https://raw.githubusercontent.com/CSSEGISandData/COVID-19/master/csse_covid_19_data/csse_covid_19_time_series/time_series_covid19_confirmed_global.csv'\n",
    "DEAD_URL = 'https://raw.githubusercontent.com/CSSEGISandData/COVID-19/master/csse_covid_19_data/csse_covid_19_time_series/time_series_covid19_deaths_global.csv'\n",
    "RECV_URL = 'https://raw.githubusercontent.com/CSSEGISandData/COVID-19/master/csse_covid_19_data/csse_covid_19_time_series/time_series_covid19_recovered_global.csv'\n",
    "\n",
    "covid_conf = pd.read_csv(CONF_URL)\n",
    "covid_dead = pd.read_csv(DEAD_URL)\n",
    "covid_recv = pd.read_csv(RECV_URL)\n",
    "\n"
   ]
  },
  {
   "cell_type": "code",
   "execution_count": 303,
   "metadata": {
    "scrolled": true
   },
   "outputs": [
    {
     "data": {
      "text/html": [
       "<div>\n",
       "<style scoped>\n",
       "    .dataframe tbody tr th:only-of-type {\n",
       "        vertical-align: middle;\n",
       "    }\n",
       "\n",
       "    .dataframe tbody tr th {\n",
       "        vertical-align: top;\n",
       "    }\n",
       "\n",
       "    .dataframe thead th {\n",
       "        text-align: right;\n",
       "    }\n",
       "</style>\n",
       "<table border=\"1\" class=\"dataframe\">\n",
       "  <thead>\n",
       "    <tr style=\"text-align: right;\">\n",
       "      <th></th>\n",
       "      <th>Province/State</th>\n",
       "      <th>Country/Region</th>\n",
       "      <th>Lat</th>\n",
       "      <th>Long</th>\n",
       "      <th>1/22/20</th>\n",
       "      <th>1/23/20</th>\n",
       "      <th>1/24/20</th>\n",
       "      <th>1/25/20</th>\n",
       "      <th>1/26/20</th>\n",
       "      <th>1/27/20</th>\n",
       "      <th>...</th>\n",
       "      <th>3/25/21</th>\n",
       "      <th>3/26/21</th>\n",
       "      <th>3/27/21</th>\n",
       "      <th>3/28/21</th>\n",
       "      <th>3/29/21</th>\n",
       "      <th>3/30/21</th>\n",
       "      <th>3/31/21</th>\n",
       "      <th>4/1/21</th>\n",
       "      <th>4/2/21</th>\n",
       "      <th>4/3/21</th>\n",
       "    </tr>\n",
       "  </thead>\n",
       "  <tbody>\n",
       "    <tr>\n",
       "      <th>0</th>\n",
       "      <td>NaN</td>\n",
       "      <td>Afghanistan</td>\n",
       "      <td>33.93911</td>\n",
       "      <td>67.709953</td>\n",
       "      <td>0</td>\n",
       "      <td>0</td>\n",
       "      <td>0</td>\n",
       "      <td>0</td>\n",
       "      <td>0</td>\n",
       "      <td>0</td>\n",
       "      <td>...</td>\n",
       "      <td>56226</td>\n",
       "      <td>56254</td>\n",
       "      <td>56290</td>\n",
       "      <td>56294</td>\n",
       "      <td>56322</td>\n",
       "      <td>56384</td>\n",
       "      <td>56454</td>\n",
       "      <td>56517</td>\n",
       "      <td>56572</td>\n",
       "      <td>56595</td>\n",
       "    </tr>\n",
       "    <tr>\n",
       "      <th>1</th>\n",
       "      <td>NaN</td>\n",
       "      <td>Albania</td>\n",
       "      <td>41.15330</td>\n",
       "      <td>20.168300</td>\n",
       "      <td>0</td>\n",
       "      <td>0</td>\n",
       "      <td>0</td>\n",
       "      <td>0</td>\n",
       "      <td>0</td>\n",
       "      <td>0</td>\n",
       "      <td>...</td>\n",
       "      <td>122767</td>\n",
       "      <td>123216</td>\n",
       "      <td>123641</td>\n",
       "      <td>124134</td>\n",
       "      <td>124419</td>\n",
       "      <td>124723</td>\n",
       "      <td>125157</td>\n",
       "      <td>125506</td>\n",
       "      <td>125842</td>\n",
       "      <td>126183</td>\n",
       "    </tr>\n",
       "    <tr>\n",
       "      <th>2</th>\n",
       "      <td>NaN</td>\n",
       "      <td>Algeria</td>\n",
       "      <td>28.03390</td>\n",
       "      <td>1.659600</td>\n",
       "      <td>0</td>\n",
       "      <td>0</td>\n",
       "      <td>0</td>\n",
       "      <td>0</td>\n",
       "      <td>0</td>\n",
       "      <td>0</td>\n",
       "      <td>...</td>\n",
       "      <td>116543</td>\n",
       "      <td>116657</td>\n",
       "      <td>116750</td>\n",
       "      <td>116836</td>\n",
       "      <td>116946</td>\n",
       "      <td>117061</td>\n",
       "      <td>117192</td>\n",
       "      <td>117304</td>\n",
       "      <td>117429</td>\n",
       "      <td>117524</td>\n",
       "    </tr>\n",
       "    <tr>\n",
       "      <th>3</th>\n",
       "      <td>NaN</td>\n",
       "      <td>Andorra</td>\n",
       "      <td>42.50630</td>\n",
       "      <td>1.521800</td>\n",
       "      <td>0</td>\n",
       "      <td>0</td>\n",
       "      <td>0</td>\n",
       "      <td>0</td>\n",
       "      <td>0</td>\n",
       "      <td>0</td>\n",
       "      <td>...</td>\n",
       "      <td>11687</td>\n",
       "      <td>11732</td>\n",
       "      <td>11809</td>\n",
       "      <td>11850</td>\n",
       "      <td>11888</td>\n",
       "      <td>11944</td>\n",
       "      <td>12010</td>\n",
       "      <td>12053</td>\n",
       "      <td>12115</td>\n",
       "      <td>12174</td>\n",
       "    </tr>\n",
       "    <tr>\n",
       "      <th>4</th>\n",
       "      <td>NaN</td>\n",
       "      <td>Angola</td>\n",
       "      <td>-11.20270</td>\n",
       "      <td>17.873900</td>\n",
       "      <td>0</td>\n",
       "      <td>0</td>\n",
       "      <td>0</td>\n",
       "      <td>0</td>\n",
       "      <td>0</td>\n",
       "      <td>0</td>\n",
       "      <td>...</td>\n",
       "      <td>21914</td>\n",
       "      <td>21961</td>\n",
       "      <td>22031</td>\n",
       "      <td>22063</td>\n",
       "      <td>22132</td>\n",
       "      <td>22182</td>\n",
       "      <td>22311</td>\n",
       "      <td>22399</td>\n",
       "      <td>22467</td>\n",
       "      <td>22579</td>\n",
       "    </tr>\n",
       "  </tbody>\n",
       "</table>\n",
       "<p>5 rows × 442 columns</p>\n",
       "</div>"
      ],
      "text/plain": [
       "  Province/State Country/Region       Lat       Long  1/22/20  1/23/20  \\\n",
       "0            NaN    Afghanistan  33.93911  67.709953        0        0   \n",
       "1            NaN        Albania  41.15330  20.168300        0        0   \n",
       "2            NaN        Algeria  28.03390   1.659600        0        0   \n",
       "3            NaN        Andorra  42.50630   1.521800        0        0   \n",
       "4            NaN         Angola -11.20270  17.873900        0        0   \n",
       "\n",
       "   1/24/20  1/25/20  1/26/20  1/27/20  ...  3/25/21  3/26/21  3/27/21  \\\n",
       "0        0        0        0        0  ...    56226    56254    56290   \n",
       "1        0        0        0        0  ...   122767   123216   123641   \n",
       "2        0        0        0        0  ...   116543   116657   116750   \n",
       "3        0        0        0        0  ...    11687    11732    11809   \n",
       "4        0        0        0        0  ...    21914    21961    22031   \n",
       "\n",
       "   3/28/21  3/29/21  3/30/21  3/31/21  4/1/21  4/2/21  4/3/21  \n",
       "0    56294    56322    56384    56454   56517   56572   56595  \n",
       "1   124134   124419   124723   125157  125506  125842  126183  \n",
       "2   116836   116946   117061   117192  117304  117429  117524  \n",
       "3    11850    11888    11944    12010   12053   12115   12174  \n",
       "4    22063    22132    22182    22311   22399   22467   22579  \n",
       "\n",
       "[5 rows x 442 columns]"
      ]
     },
     "execution_count": 303,
     "metadata": {},
     "output_type": "execute_result"
    }
   ],
   "source": [
    "covid_conf.head()"
   ]
  },
  {
   "cell_type": "code",
   "execution_count": 264,
   "metadata": {},
   "outputs": [
    {
     "data": {
      "text/html": [
       "<div>\n",
       "<style scoped>\n",
       "    .dataframe tbody tr th:only-of-type {\n",
       "        vertical-align: middle;\n",
       "    }\n",
       "\n",
       "    .dataframe tbody tr th {\n",
       "        vertical-align: top;\n",
       "    }\n",
       "\n",
       "    .dataframe thead th {\n",
       "        text-align: right;\n",
       "    }\n",
       "</style>\n",
       "<table border=\"1\" class=\"dataframe\">\n",
       "  <thead>\n",
       "    <tr style=\"text-align: right;\">\n",
       "      <th></th>\n",
       "      <th>Province/State</th>\n",
       "      <th>Country/Region</th>\n",
       "      <th>Lat</th>\n",
       "      <th>Long</th>\n",
       "      <th>1/22/20</th>\n",
       "      <th>1/23/20</th>\n",
       "      <th>1/24/20</th>\n",
       "      <th>1/25/20</th>\n",
       "      <th>1/26/20</th>\n",
       "      <th>1/27/20</th>\n",
       "      <th>...</th>\n",
       "      <th>3/25/21</th>\n",
       "      <th>3/26/21</th>\n",
       "      <th>3/27/21</th>\n",
       "      <th>3/28/21</th>\n",
       "      <th>3/29/21</th>\n",
       "      <th>3/30/21</th>\n",
       "      <th>3/31/21</th>\n",
       "      <th>4/1/21</th>\n",
       "      <th>4/2/21</th>\n",
       "      <th>4/3/21</th>\n",
       "    </tr>\n",
       "  </thead>\n",
       "  <tbody>\n",
       "    <tr>\n",
       "      <th>249</th>\n",
       "      <td>NaN</td>\n",
       "      <td>US</td>\n",
       "      <td>40.0</td>\n",
       "      <td>-100.0</td>\n",
       "      <td>1</td>\n",
       "      <td>1</td>\n",
       "      <td>2</td>\n",
       "      <td>2</td>\n",
       "      <td>5</td>\n",
       "      <td>5</td>\n",
       "      <td>...</td>\n",
       "      <td>30080058</td>\n",
       "      <td>30157372</td>\n",
       "      <td>30219450</td>\n",
       "      <td>30263145</td>\n",
       "      <td>30332565</td>\n",
       "      <td>30393805</td>\n",
       "      <td>30460834</td>\n",
       "      <td>30539868</td>\n",
       "      <td>30609690</td>\n",
       "      <td>30671844</td>\n",
       "    </tr>\n",
       "  </tbody>\n",
       "</table>\n",
       "<p>1 rows × 442 columns</p>\n",
       "</div>"
      ],
      "text/plain": [
       "    Province/State Country/Region   Lat   Long  1/22/20  1/23/20  1/24/20  \\\n",
       "249            NaN             US  40.0 -100.0        1        1        2   \n",
       "\n",
       "     1/25/20  1/26/20  1/27/20  ...   3/25/21   3/26/21   3/27/21   3/28/21  \\\n",
       "249        2        5        5  ...  30080058  30157372  30219450  30263145   \n",
       "\n",
       "      3/29/21   3/30/21   3/31/21    4/1/21    4/2/21    4/3/21  \n",
       "249  30332565  30393805  30460834  30539868  30609690  30671844  \n",
       "\n",
       "[1 rows x 442 columns]"
      ]
     },
     "execution_count": 264,
     "metadata": {},
     "output_type": "execute_result"
    }
   ],
   "source": [
    "covid_conf_us"
   ]
  },
  {
   "cell_type": "code",
   "execution_count": 257,
   "metadata": {},
   "outputs": [
    {
     "data": {
      "text/plain": [
       "(30671844.0, '4/3/21')"
      ]
     },
     "execution_count": 257,
     "metadata": {},
     "output_type": "execute_result"
    }
   ],
   "source": [
    "#get max rate  for country\n",
    "def GetPeakDate(data,cntry):\n",
    "    df = data[data['Country/Region']==cntry]\n",
    "    max_pt = df.max(axis = 1).values[0]\n",
    "    max_pt_date = df.eq(df.max(1), axis=0).dot(df.columns).values[0]\n",
    "    return max_pt, max_pt_date\n",
    "country = 'US'\n",
    "GetPeakDate(covid_conf,country)"
   ]
  },
  {
   "cell_type": "code",
   "execution_count": 258,
   "metadata": {},
   "outputs": [
    {
     "data": {
      "text/plain": [
       "(6298082.0, '12/13/20')"
      ]
     },
     "execution_count": 258,
     "metadata": {},
     "output_type": "execute_result"
    }
   ],
   "source": [
    "#get max rate  for country\n",
    "def GetPeakDate(data,cntry):\n",
    "    df = data[data['Country/Region']==cntry]\n",
    "    max_pt = df.max(axis = 1).values[0]\n",
    "    max_pt_date = df.eq(df.max(1), axis=0).dot(df.columns).values[0]\n",
    "    return max_pt, max_pt_date\n",
    "country = 'US'\n",
    "GetPeakDate(covid_recv,country)"
   ]
  },
  {
   "cell_type": "code",
   "execution_count": 261,
   "metadata": {},
   "outputs": [
    {
     "data": {
      "text/plain": [
       "(554779.0, '4/3/21')"
      ]
     },
     "execution_count": 261,
     "metadata": {},
     "output_type": "execute_result"
    }
   ],
   "source": [
    "#get max rate  for country\n",
    "def GetPeakDate(data,cntry):\n",
    "    df = data[data['Country/Region']==cntry]\n",
    "    max_pt = df.max(axis = 1).values[0]\n",
    "    max_pt_date = df.eq(df.max(1), axis=0).dot(df.columns).values[0]\n",
    "    return max_pt, max_pt_date\n",
    "country = 'US'\n",
    "GetPeakDate(covid_dead,country)"
   ]
  },
  {
   "cell_type": "code",
   "execution_count": 285,
   "metadata": {},
   "outputs": [
    {
     "data": {
      "text/html": [
       "<div>\n",
       "<style scoped>\n",
       "    .dataframe tbody tr th:only-of-type {\n",
       "        vertical-align: middle;\n",
       "    }\n",
       "\n",
       "    .dataframe tbody tr th {\n",
       "        vertical-align: top;\n",
       "    }\n",
       "\n",
       "    .dataframe thead th {\n",
       "        text-align: right;\n",
       "    }\n",
       "</style>\n",
       "<table border=\"1\" class=\"dataframe\">\n",
       "  <thead>\n",
       "    <tr style=\"text-align: right;\">\n",
       "      <th></th>\n",
       "      <th>index</th>\n",
       "      <th>sum</th>\n",
       "    </tr>\n",
       "  </thead>\n",
       "  <tbody>\n",
       "    <tr>\n",
       "      <th>231</th>\n",
       "      <td>9/9/20</td>\n",
       "      <td>27898143</td>\n",
       "    </tr>\n",
       "  </tbody>\n",
       "</table>\n",
       "</div>"
      ],
      "text/plain": [
       "      index       sum\n",
       "231  9/9/20  27898143"
      ]
     },
     "execution_count": 285,
     "metadata": {},
     "output_type": "execute_result"
    }
   ],
   "source": [
    "z[z['index']=='9/9/20']"
   ]
  },
  {
   "cell_type": "code",
   "execution_count": 287,
   "metadata": {
    "scrolled": true
   },
   "outputs": [
    {
     "data": {
      "text/html": [
       "<div>\n",
       "<style scoped>\n",
       "    .dataframe tbody tr th:only-of-type {\n",
       "        vertical-align: middle;\n",
       "    }\n",
       "\n",
       "    .dataframe tbody tr th {\n",
       "        vertical-align: top;\n",
       "    }\n",
       "\n",
       "    .dataframe thead th {\n",
       "        text-align: right;\n",
       "    }\n",
       "</style>\n",
       "<table border=\"1\" class=\"dataframe\">\n",
       "  <thead>\n",
       "    <tr style=\"text-align: right;\">\n",
       "      <th></th>\n",
       "      <th>index</th>\n",
       "      <th>sum</th>\n",
       "    </tr>\n",
       "  </thead>\n",
       "  <tbody>\n",
       "    <tr>\n",
       "      <th>437</th>\n",
       "      <td>4/3/21</td>\n",
       "      <td>130676358</td>\n",
       "    </tr>\n",
       "  </tbody>\n",
       "</table>\n",
       "</div>"
      ],
      "text/plain": [
       "      index        sum\n",
       "437  4/3/21  130676358"
      ]
     },
     "execution_count": 287,
     "metadata": {},
     "output_type": "execute_result"
    }
   ],
   "source": [
    "z[z['sum']==130676358]"
   ]
  },
  {
   "cell_type": "code",
   "execution_count": 294,
   "metadata": {
    "scrolled": true
   },
   "outputs": [
    {
     "data": {
      "text/plain": [
       "437    4/3/21\n",
       "Name: index, dtype: object"
      ]
     },
     "execution_count": 294,
     "metadata": {},
     "output_type": "execute_result"
    }
   ],
   "source": [
    "z[z['sum']==130676358]['index']"
   ]
  },
  {
   "cell_type": "code",
   "execution_count": 286,
   "metadata": {},
   "outputs": [
    {
     "data": {
      "text/plain": [
       "130676358"
      ]
     },
     "execution_count": 286,
     "metadata": {},
     "output_type": "execute_result"
    }
   ],
   "source": [
    "z['sum'].max()"
   ]
  },
  {
   "cell_type": "code",
   "execution_count": 297,
   "metadata": {},
   "outputs": [
    {
     "name": "stdout",
     "output_type": "stream",
     "text": [
      "130676358\n"
     ]
    },
    {
     "data": {
      "text/plain": [
       "(130676358, '4/3/21')"
      ]
     },
     "execution_count": 297,
     "metadata": {},
     "output_type": "execute_result"
    }
   ],
   "source": [
    "#get overall wordlwide total for confirmed, recovered and dead cases\n",
    "def GetPeakDataOverAll(df):\n",
    "    df1 = df.iloc[:,4:].sum()\n",
    "    frame = { 'index': df1.index, 'sum': df1.values }\n",
    "    df = pd.DataFrame(frame)\n",
    "    max_pt = df['sum'].max()\n",
    "    max_pt_date = df[df['sum']==max_pt]['index'].values[0]\n",
    "    return max_pt, max_pt_date\n",
    "GetPeakDataOverAll(covid_conf)"
   ]
  },
  {
   "cell_type": "code",
   "execution_count": 214,
   "metadata": {},
   "outputs": [
    {
     "data": {
      "text/plain": [
       "30671844"
      ]
     },
     "execution_count": 214,
     "metadata": {},
     "output_type": "execute_result"
    }
   ],
   "source": [
    "max(q)"
   ]
  },
  {
   "cell_type": "code",
   "execution_count": 32,
   "metadata": {},
   "outputs": [
    {
     "name": "stdout",
     "output_type": "stream",
     "text": [
      "Overall Confirmed: 130676358\n",
      "Overall Dead: 2845616\n",
      "Overall Recovered: 74069842\n"
     ]
    }
   ],
   "source": [
    "#get data in cleaned time series format for country\n",
    "def process_data(data,cntry='US',window=3):\n",
    "    conf_ts = data\n",
    "    conf_ts_cntry = conf_ts[conf_ts['Country/Region']==cntry]\n",
    "    final_dataset = conf_ts_cntry.T[4:].sum(axis='columns').diff().rolling(window=window).mean()[40:]\n",
    "    df = pd.DataFrame(final_dataset,columns=['Total'])\n",
    "    return df\n",
    "\n",
    "#get overall wordlwide total for confirmed, recovered and dead cases\n",
    "def get_overall_total(df):\n",
    "    return df.iloc[:,-1].sum()\n",
    "\n",
    "# get latest Date Report\n",
    "def get_Date(df):\n",
    "    date = df.columns[-1]\n",
    "    return date\n",
    "\n",
    "conf_overall_total = get_overall_total(covid_conf)\n",
    "dead_overall_total = get_overall_total(covid_dead)\n",
    "recv_overall_total = get_overall_total(covid_recv)\n",
    "print('Overall Confirmed:',conf_overall_total)\n",
    "print('Overall Dead:',dead_overall_total)\n",
    "print('Overall Recovered:',recv_overall_total)"
   ]
  },
  {
   "cell_type": "code",
   "execution_count": 184,
   "metadata": {
    "scrolled": true
   },
   "outputs": [
    {
     "data": {
      "text/html": [
       "<div>\n",
       "<style scoped>\n",
       "    .dataframe tbody tr th:only-of-type {\n",
       "        vertical-align: middle;\n",
       "    }\n",
       "\n",
       "    .dataframe tbody tr th {\n",
       "        vertical-align: top;\n",
       "    }\n",
       "\n",
       "    .dataframe thead th {\n",
       "        text-align: right;\n",
       "    }\n",
       "</style>\n",
       "<table border=\"1\" class=\"dataframe\">\n",
       "  <thead>\n",
       "    <tr style=\"text-align: right;\">\n",
       "      <th></th>\n",
       "      <th>Province/State</th>\n",
       "      <th>Country/Region</th>\n",
       "      <th>Lat</th>\n",
       "      <th>Long</th>\n",
       "      <th>1/22/20</th>\n",
       "      <th>1/23/20</th>\n",
       "      <th>1/24/20</th>\n",
       "      <th>1/25/20</th>\n",
       "      <th>1/26/20</th>\n",
       "      <th>1/27/20</th>\n",
       "      <th>...</th>\n",
       "      <th>3/25/21</th>\n",
       "      <th>3/26/21</th>\n",
       "      <th>3/27/21</th>\n",
       "      <th>3/28/21</th>\n",
       "      <th>3/29/21</th>\n",
       "      <th>3/30/21</th>\n",
       "      <th>3/31/21</th>\n",
       "      <th>4/1/21</th>\n",
       "      <th>4/2/21</th>\n",
       "      <th>4/3/21</th>\n",
       "    </tr>\n",
       "  </thead>\n",
       "  <tbody>\n",
       "    <tr>\n",
       "      <th>249</th>\n",
       "      <td>NaN</td>\n",
       "      <td>US</td>\n",
       "      <td>40.0</td>\n",
       "      <td>-100.0</td>\n",
       "      <td>1</td>\n",
       "      <td>1</td>\n",
       "      <td>2</td>\n",
       "      <td>2</td>\n",
       "      <td>5</td>\n",
       "      <td>5</td>\n",
       "      <td>...</td>\n",
       "      <td>30080058</td>\n",
       "      <td>30157372</td>\n",
       "      <td>30219450</td>\n",
       "      <td>30263145</td>\n",
       "      <td>30332565</td>\n",
       "      <td>30393805</td>\n",
       "      <td>30460834</td>\n",
       "      <td>30539868</td>\n",
       "      <td>30609690</td>\n",
       "      <td>30671844</td>\n",
       "    </tr>\n",
       "  </tbody>\n",
       "</table>\n",
       "<p>1 rows × 442 columns</p>\n",
       "</div>"
      ],
      "text/plain": [
       "    Province/State Country/Region   Lat   Long  1/22/20  1/23/20  1/24/20  \\\n",
       "249            NaN             US  40.0 -100.0        1        1        2   \n",
       "\n",
       "     1/25/20  1/26/20  1/27/20  ...   3/25/21   3/26/21   3/27/21   3/28/21  \\\n",
       "249        2        5        5  ...  30080058  30157372  30219450  30263145   \n",
       "\n",
       "      3/29/21   3/30/21   3/31/21    4/1/21    4/2/21    4/3/21  \n",
       "249  30332565  30393805  30460834  30539868  30609690  30671844  \n",
       "\n",
       "[1 rows x 442 columns]"
      ]
     },
     "execution_count": 184,
     "metadata": {},
     "output_type": "execute_result"
    }
   ],
   "source": [
    "covid_conf[covid_conf['Country/Region']=='US']"
   ]
  },
  {
   "cell_type": "code",
   "execution_count": 181,
   "metadata": {
    "scrolled": true
   },
   "outputs": [
    {
     "data": {
      "text/html": [
       "<div>\n",
       "<style scoped>\n",
       "    .dataframe tbody tr th:only-of-type {\n",
       "        vertical-align: middle;\n",
       "    }\n",
       "\n",
       "    .dataframe tbody tr th {\n",
       "        vertical-align: top;\n",
       "    }\n",
       "\n",
       "    .dataframe thead th {\n",
       "        text-align: right;\n",
       "    }\n",
       "</style>\n",
       "<table border=\"1\" class=\"dataframe\">\n",
       "  <thead>\n",
       "    <tr style=\"text-align: right;\">\n",
       "      <th></th>\n",
       "      <th>Province/State</th>\n",
       "      <th>Country/Region</th>\n",
       "      <th>Lat</th>\n",
       "      <th>Long</th>\n",
       "      <th>1/22/20</th>\n",
       "      <th>1/23/20</th>\n",
       "      <th>1/24/20</th>\n",
       "      <th>1/25/20</th>\n",
       "      <th>1/26/20</th>\n",
       "      <th>1/27/20</th>\n",
       "      <th>...</th>\n",
       "      <th>3/25/21</th>\n",
       "      <th>3/26/21</th>\n",
       "      <th>3/27/21</th>\n",
       "      <th>3/28/21</th>\n",
       "      <th>3/29/21</th>\n",
       "      <th>3/30/21</th>\n",
       "      <th>3/31/21</th>\n",
       "      <th>4/1/21</th>\n",
       "      <th>4/2/21</th>\n",
       "      <th>4/3/21</th>\n",
       "    </tr>\n",
       "  </thead>\n",
       "  <tbody>\n",
       "    <tr>\n",
       "      <th>131</th>\n",
       "      <td>NaN</td>\n",
       "      <td>India</td>\n",
       "      <td>20.593684</td>\n",
       "      <td>78.96288</td>\n",
       "      <td>0</td>\n",
       "      <td>0</td>\n",
       "      <td>0</td>\n",
       "      <td>0</td>\n",
       "      <td>0</td>\n",
       "      <td>0</td>\n",
       "      <td>...</td>\n",
       "      <td>11264637</td>\n",
       "      <td>11295023</td>\n",
       "      <td>11323762</td>\n",
       "      <td>11355993</td>\n",
       "      <td>11393021</td>\n",
       "      <td>11434301</td>\n",
       "      <td>11474683</td>\n",
       "      <td>11525039</td>\n",
       "      <td>11569241</td>\n",
       "      <td>11569241</td>\n",
       "    </tr>\n",
       "  </tbody>\n",
       "</table>\n",
       "<p>1 rows × 442 columns</p>\n",
       "</div>"
      ],
      "text/plain": [
       "    Province/State Country/Region        Lat      Long  1/22/20  1/23/20  \\\n",
       "131            NaN          India  20.593684  78.96288        0        0   \n",
       "\n",
       "     1/24/20  1/25/20  1/26/20  1/27/20  ...   3/25/21   3/26/21   3/27/21  \\\n",
       "131        0        0        0        0  ...  11264637  11295023  11323762   \n",
       "\n",
       "      3/28/21   3/29/21   3/30/21   3/31/21    4/1/21    4/2/21    4/3/21  \n",
       "131  11355993  11393021  11434301  11474683  11525039  11569241  11569241  \n",
       "\n",
       "[1 rows x 442 columns]"
      ]
     },
     "execution_count": 181,
     "metadata": {},
     "output_type": "execute_result"
    }
   ],
   "source": [
    "covid_recv[covid_recv['Country/Region']=='India']"
   ]
  },
  {
   "cell_type": "code",
   "execution_count": 183,
   "metadata": {},
   "outputs": [
    {
     "name": "stdout",
     "output_type": "stream",
     "text": [
      "indi\n",
      "146\n"
     ]
    },
    {
     "data": {
      "text/plain": [
       "(20.593684, 78.96288, 'India')"
      ]
     },
     "execution_count": 183,
     "metadata": {},
     "output_type": "execute_result"
    }
   ],
   "source": [
    "#get data in cleaned for country\n",
    "def select_cntrys(df,cntry):\n",
    "    cntry = cntry.lower()\n",
    "    print(cntry)\n",
    "    temp = df[df['Country/Region'].apply(lambda x: cntry == x.lower())]\n",
    "    if len(temp)==1:\n",
    "        cntry_list = list(set(temp['Country/Region'].values))\n",
    "    else:\n",
    "        df_cntry = df[df['Country/Region'].apply(lambda x: cntry in x.lower())]\n",
    "        cntry_list = list(set(df_cntry['Country/Region'].values))\n",
    "    contry0 = cntry_list[0]\n",
    "    index = df[df['Country/Region']==contry0].index[0]\n",
    "    lat = df['Lat'][index]\n",
    "    long = df['Long'][index]\n",
    "    return lat, long, contry0\n",
    "    \n",
    "# get latest Date Report\n",
    "def get_Date(df):\n",
    "    date = df.columns[-1]\n",
    "    return date\n",
    "\n",
    "# process_data(covid_conf,cntry=\"Indo\")\n",
    "lat, long, cntry = select_cntrys(covid_conf,cntry=\"indi\")\n",
    "lat, long, cntry"
   ]
  },
  {
   "cell_type": "code",
   "execution_count": 198,
   "metadata": {},
   "outputs": [],
   "source": [
    "#get total country and names\n",
    "def get_cntry_name(df):\n",
    "    total_cntry = len(set(df['Country/Region']))\n",
    "    cntrys = list(set(df['Country/Region']))\n",
    "    return total_cntry, cntrys\n",
    "\n",
    "a,b = get_cntry_name(covid_conf)"
   ]
  },
  {
   "cell_type": "code",
   "execution_count": 153,
   "metadata": {},
   "outputs": [
    {
     "name": "stdout",
     "output_type": "stream",
     "text": [
      "US Confirmed: 4241388840\n",
      "US Dead: 91260544\n",
      "US Recovered: 496971828\n",
      "US Confirmed: 30671844\n",
      "US Dead: 554779\n",
      "US Recovered: 0\n"
     ]
    }
   ],
   "source": [
    "#get total for confirmed, recovered and dead for country \n",
    "# df1,df2,df3 is covid_conf, covid_dead, covid_recv\n",
    "def get_cntry_total(df1,df2,df3,cntry='US'):\n",
    "    conf = df1[df1['Country/Region']==cntry].iloc[:,4:].sum(axis = 1).values[0]\n",
    "    dead = df2[df2['Country/Region']==cntry].iloc[:,4:].sum(axis = 1).values[0]\n",
    "    recv = df3[df3['Country/Region']==cntry].iloc[:,4:].sum(axis = 1).values[0]\n",
    "    return conf,dead,recv\n",
    "\n",
    "#get total for confirmed, recovered and dead for country \n",
    "def get_cntry_total_latest(df1,df2,df3,cntry,date):\n",
    "    conf = df1[df1['Country/Region']==cntry][date].values[0]\n",
    "    dead = df2[df2['Country/Region']==cntry][date].values[0]\n",
    "    recv = df3[df3['Country/Region']==cntry][date].values[0]\n",
    "    return conf,dead,recv\n",
    "\n",
    "cntry = 'US'\n",
    "conf,dead,recv = get_cntry_total(covid_conf,covid_dead,covid_recv,cntry)\n",
    "print(f'{cntry} Confirmed:',conf)\n",
    "print(f'{cntry} Dead:',dead)\n",
    "print(f'{cntry} Recovered:',recv)\n",
    "\n",
    "cntry = 'US'\n",
    "date = get_Date(covid_conf)\n",
    "conf,dead,recv = get_cntry_total_latest(covid_conf,covid_dead,covid_recv,cntry,date)\n",
    "print(f'{cntry} Confirmed:',conf)\n",
    "print(f'{cntry} Dead:',dead)\n",
    "print(f'{cntry} Recovered:',recv)"
   ]
  },
  {
   "cell_type": "code",
   "execution_count": null,
   "metadata": {},
   "outputs": [],
   "source": []
  }
 ],
 "metadata": {
  "kernelspec": {
   "display_name": "Python 3",
   "language": "python",
   "name": "python3"
  },
  "language_info": {
   "codemirror_mode": {
    "name": "ipython",
    "version": 3
   },
   "file_extension": ".py",
   "mimetype": "text/x-python",
   "name": "python",
   "nbconvert_exporter": "python",
   "pygments_lexer": "ipython3",
   "version": "3.8.5"
  }
 },
 "nbformat": 4,
 "nbformat_minor": 4
}
